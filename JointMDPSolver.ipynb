{
 "cells": [
  {
   "cell_type": "code",
   "execution_count": 1,
   "metadata": {
    "ExecuteTime": {
     "end_time": "2020-02-13T23:33:09.169401Z",
     "start_time": "2020-02-13T23:33:08.981383Z"
    }
   },
   "outputs": [],
   "source": [
    "import numpy as np\n",
    "import itertools\n",
    "import sys\n",
    "import pandas as pd"
   ]
  },
  {
   "cell_type": "code",
   "execution_count": 2,
   "metadata": {
    "ExecuteTime": {
     "end_time": "2020-02-13T23:33:09.179551Z",
     "start_time": "2020-02-13T23:33:09.170602Z"
    }
   },
   "outputs": [],
   "source": [
    "%load_ext autoreload\n",
    "%autoreload 2"
   ]
  },
  {
   "cell_type": "code",
   "execution_count": 3,
   "metadata": {
    "ExecuteTime": {
     "end_time": "2020-02-13T23:33:09.187545Z",
     "start_time": "2020-02-13T23:33:09.180785Z"
    }
   },
   "outputs": [],
   "source": [
    "from grosseJointPlanner import *\n",
    "from ValueIteration import BoltzmannValueIteration"
   ]
  },
  {
   "cell_type": "code",
   "execution_count": 4,
   "metadata": {
    "ExecuteTime": {
     "end_time": "2020-02-13T23:33:09.195258Z",
     "start_time": "2020-02-13T23:33:09.188554Z"
    }
   },
   "outputs": [],
   "source": [
    "gridWidth = 5\n",
    "gridHeight = 5\n",
    "states = list(itertools.product(range(gridWidth), range(gridHeight)))\n",
    "actions = [(-1,0), (0,1), (1,0), (0,-1), (0,0)]"
   ]
  },
  {
   "cell_type": "code",
   "execution_count": 5,
   "metadata": {
    "ExecuteTime": {
     "end_time": "2020-02-13T23:33:09.388289Z",
     "start_time": "2020-02-13T23:33:09.196305Z"
    }
   },
   "outputs": [],
   "source": [
    "gettransition = SetupDeterministicTransitionByStateSet2Agent(states, actions, (1,1))\n",
    "transitionTable = gettransition()\n",
    "getReward = SetupRewardTable2AgentDistanceCost(transitionTable, [(4,2)])"
   ]
  },
  {
   "cell_type": "code",
   "execution_count": 6,
   "metadata": {
    "ExecuteTime": {
     "end_time": "2020-02-13T23:33:09.636328Z",
     "start_time": "2020-02-13T23:33:09.389488Z"
    }
   },
   "outputs": [],
   "source": [
    "transitionTable = gettransition()\n",
    "rewardTable = getReward()"
   ]
  },
  {
   "cell_type": "code",
   "execution_count": 7,
   "metadata": {
    "ExecuteTime": {
     "end_time": "2020-02-13T23:33:14.656217Z",
     "start_time": "2020-02-13T23:33:13.058084Z"
    }
   },
   "outputs": [],
   "source": [
    "convergence = .000001\n",
    "gamma = .95\n",
    "valueTable = {state:0 for state in transitionTable.keys()}\n",
    "beta = 2\n",
    "\n",
    "performValueIteration = BoltzmannValueIteration(transitionTable, rewardTable, valueTable, convergence, gamma, beta)\n",
    "optimalValues, policy = performValueIteration()"
   ]
  },
  {
   "cell_type": "code",
   "execution_count": 8,
   "metadata": {
    "ExecuteTime": {
     "end_time": "2020-02-13T23:54:01.838722Z",
     "start_time": "2020-02-13T23:54:01.818297Z"
    }
   },
   "outputs": [],
   "source": [
    "#Trajectory sampling\n",
    "def samplePathToGoal(position, policy, transition, goals):\n",
    "    trajectory = [position]\n",
    "\n",
    "    while position[0] not in goals and position[1] not in goals:\n",
    "        \n",
    "        #take action probabilisitically\n",
    "        actions = list(policy[position].keys())\n",
    "        probOfAction = [policy[position][action] for action in actions]\n",
    "        actionIndex = np.random.choice(len(actions), 1, p = probOfAction)\n",
    "        sampledAction = actions[int(actionIndex)]       \n",
    "        \n",
    "        #get new position\n",
    "        newPosition = list(transition[position][sampledAction].keys())[0]\n",
    "\n",
    "        #update to new belief/position and add to trajectory\n",
    "        position = newPosition\n",
    "        trajectory.append(position)\n",
    "    return(trajectory)"
   ]
  },
  {
   "cell_type": "code",
   "execution_count": 10,
   "metadata": {},
   "outputs": [
    {
     "data": {
      "text/plain": [
       "[((0, 0), (4, 4)), ((1, 0), (4, 3)), ((1, 0), (4, 2))]"
      ]
     },
     "execution_count": 10,
     "metadata": {},
     "output_type": "execute_result"
    }
   ],
   "source": [
    "trajectory = samplePathToGoal(((0, 0), (4, 4)), policy, transitionTable, [(4,2)])\n",
    "trajectory"
   ]
  },
  {
   "cell_type": "code",
   "execution_count": 13,
   "metadata": {},
   "outputs": [
    {
     "data": {
      "text/plain": [
       "{((-1, 0), (-1, 0)): 1.6817816027775666e-19,\n",
       " ((-1, 0), (0, 1)): 7.655302458420613e-11,\n",
       " ((-1, 0), (1, 0)): 7.655302458420613e-11,\n",
       " ((-1, 0), (0, -1)): 0.09950596717199087,\n",
       " ((-1, 0), (0, 0)): 4.631188110689898e-10,\n",
       " ((0, 1), (-1, 0)): 1.6817825683829208e-19,\n",
       " ((0, 1), (0, 1)): 7.655306226874469e-11,\n",
       " ((0, 1), (1, 0)): 7.655306226874469e-11,\n",
       " ((0, 1), (0, -1)): 0.09950601873358794,\n",
       " ((0, 1), (0, 0)): 4.631190390471629e-10,\n",
       " ((1, 0), (-1, 0)): 1.6817825683829208e-19,\n",
       " ((1, 0), (0, 1)): 7.655306226874469e-11,\n",
       " ((1, 0), (1, 0)): 7.655306226874469e-11,\n",
       " ((1, 0), (0, -1)): 0.09950601873358794,\n",
       " ((1, 0), (0, 0)): 4.631190390471629e-10,\n",
       " ((0, -1), (-1, 0)): 1.6817816027775666e-19,\n",
       " ((0, -1), (0, 1)): 7.655302458420613e-11,\n",
       " ((0, -1), (1, 0)): 7.655302458420613e-11,\n",
       " ((0, -1), (0, -1)): 0.09950596717199087,\n",
       " ((0, -1), (0, 0)): 4.631188110689898e-10,\n",
       " ((0, 0), (-1, 0)): 1.0174185808939762e-18,\n",
       " ((0, 0), (0, 1)): 4.631188110689898e-10,\n",
       " ((0, 0), (1, 0)): 4.631188110689898e-10,\n",
       " ((0, 0), (0, -1)): 0.6019760219959993,\n",
       " ((0, 0), (0, 0)): 2.801705541105484e-09}"
      ]
     },
     "execution_count": 13,
     "metadata": {},
     "output_type": "execute_result"
    }
   ],
   "source": [
    "a = [policy[state] for state in trajectory][0]\n",
    "a"
   ]
  },
  {
   "cell_type": "code",
   "execution_count": 18,
   "metadata": {},
   "outputs": [
    {
     "data": {
      "text/plain": [
       "{(-1, 0): 0.09950596778821573,\n",
       " (0, 1): 0.09950601934981311,\n",
       " (1, 0): 0.09950601934981311,\n",
       " (0, -1): 0.09950596778821573,\n",
       " (0, 0): 0.6019760257239425}"
      ]
     },
     "execution_count": 18,
     "metadata": {},
     "output_type": "execute_result"
    }
   ],
   "source": [
    "oneStateDist = a\n",
    "{action: np.sum([oneStateDist[actionPair] for actionPair in oneStateDist.keys() if actionPair[0] == action] )for action in actions}"
   ]
  },
  {
   "cell_type": "code",
   "execution_count": null,
   "metadata": {},
   "outputs": [],
   "source": [
    "trajPolicyDist = [policy[state] for state in trajectory]"
   ]
  },
  {
   "cell_type": "code",
   "execution_count": null,
   "metadata": {},
   "outputs": [],
   "source": [
    "for oneStateDist in trajPolicyDist"
   ]
  },
  {
   "cell_type": "code",
   "execution_count": 28,
   "metadata": {
    "ExecuteTime": {
     "end_time": "2020-02-13T23:54:03.489170Z",
     "start_time": "2020-02-13T23:54:03.474636Z"
    }
   },
   "outputs": [
    {
     "data": {
      "text/plain": [
       "[((0, 0), (4, 4)), ((0, 0), (4, 3)), ((0, 0), (4, 2))]"
      ]
     },
     "execution_count": 28,
     "metadata": {},
     "output_type": "execute_result"
    }
   ],
   "source": []
  },
  {
   "cell_type": "code",
   "execution_count": null,
   "metadata": {},
   "outputs": [],
   "source": []
  },
  {
   "cell_type": "code",
   "execution_count": 14,
   "metadata": {},
   "outputs": [],
   "source": [
    "b = {((-1, 0), (-1, 0)): 1,\n",
    " ((-1, 0), (0, 1)): 2,\n",
    " ((-1, 0), (1, 0)): 3,\n",
    " ((-1, 0), (0, -1)): 4,\n",
    " ((-1, 0), (0, 0)): 6,\n",
    " ((0, 1), (-1, 0)): 1 ,\n",
    " ((0, 1), (0, 1)): 7 ,\n",
    " ((0, 1), (1, 0)): 7 ,\n",
    " ((0, 1), (0, -1)): 0 ,\n",
    " ((0, 1), (0, 0)): 4 ,\n",
    " ((1, 0), (-1, 0)): 1 ,\n",
    " ((1, 0), (0, 1)): 7 ,\n",
    " ((1, 0), (1, 0)): 7 ,\n",
    " ((1, 0), (0, -1)): 0 ,\n",
    " ((1, 0), (0, 0)): 4 ,\n",
    " ((0, -1), (-1, 0)): 1 ,\n",
    " ((0, -1), (0, 1)): 7 ,\n",
    " ((0, -1), (1, 0)): 7 ,\n",
    " ((0, -1), (0, -1)): 0 ,\n",
    " ((0, -1), (0, 0)): 4 ,\n",
    " ((0, 0), (-1, 0)): 1 ,\n",
    " ((0, 0), (0, 1)): 4 ,\n",
    " ((0, 0), (1, 0)): 4 ,\n",
    " ((0, 0), (0, -1)): 0,\n",
    " ((0, 0), (0, 0)): 2}"
   ]
  },
  {
   "cell_type": "code",
   "execution_count": null,
   "metadata": {},
   "outputs": [],
   "source": [
    "actions = [(-1, 0), (0,1), (1,0), (0, -1), (0,0)]"
   ]
  },
  {
   "cell_type": "code",
   "execution_count": 15,
   "metadata": {},
   "outputs": [
    {
     "data": {
      "text/plain": [
       "[16, 19, 19, 19, 11]"
      ]
     },
     "execution_count": 15,
     "metadata": {},
     "output_type": "execute_result"
    }
   ],
   "source": [
    "[np.sum([b[key] for key in b.keys() if key[0] == action] )for action in actions] "
   ]
  },
  {
   "cell_type": "code",
   "execution_count": null,
   "metadata": {},
   "outputs": [],
   "source": []
  },
  {
   "cell_type": "code",
   "execution_count": null,
   "metadata": {},
   "outputs": [],
   "source": []
  },
  {
   "cell_type": "code",
   "execution_count": null,
   "metadata": {},
   "outputs": [],
   "source": []
  }
 ],
 "metadata": {
  "kernelspec": {
   "display_name": "Python 3",
   "language": "python",
   "name": "python3"
  },
  "language_info": {
   "codemirror_mode": {
    "name": "ipython",
    "version": 3
   },
   "file_extension": ".py",
   "mimetype": "text/x-python",
   "name": "python",
   "nbconvert_exporter": "python",
   "pygments_lexer": "ipython3",
   "version": "3.7.3"
  },
  "toc": {
   "base_numbering": 1,
   "nav_menu": {},
   "number_sections": true,
   "sideBar": true,
   "skip_h1_title": false,
   "title_cell": "Table of Contents",
   "title_sidebar": "Contents",
   "toc_cell": false,
   "toc_position": {},
   "toc_section_display": true,
   "toc_window_display": false
  }
 },
 "nbformat": 4,
 "nbformat_minor": 2
}
